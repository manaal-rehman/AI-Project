{
 "cells": [
  {
   "cell_type": "code",
   "execution_count": 216,
   "id": "d989e885",
   "metadata": {},
   "outputs": [],
   "source": [
    "import random\n",
    "import matplotlib.pyplot as plt\n",
    "import numpy as np\n",
    "import pandas as pd\n",
    "from sklearn.linear_model import LinearRegression\n",
    "from sklearn.metrics import mean_squared_error\n",
    "from sklearn.ensemble import RandomForestClassifier\n",
    "from sklearn.model_selection import train_test_split\n",
    "from sklearn.model_selection import learning_curve"
   ]
  },
  {
   "cell_type": "code",
   "execution_count": 217,
   "id": "68b4c6c1",
   "metadata": {},
   "outputs": [],
   "source": [
    "df = pd.read_csv(\"housing.csv\")"
   ]
  },
  {
   "cell_type": "code",
   "execution_count": 218,
   "id": "de0fdbf8",
   "metadata": {},
   "outputs": [],
   "source": [
    "df = df.drop(\"ocean_proximity\",axis =1)\n",
    "df.replace([np.inf, -np.inf], np.nan, inplace=True)\n",
    "df.dropna(inplace=True)"
   ]
  },
  {
   "cell_type": "code",
   "execution_count": 219,
   "id": "0d2821d9",
   "metadata": {},
   "outputs": [],
   "source": [
    "X_train,X_test,Y_train,Y_test = train_test_split(df.drop(\"median_house_value\",axis =1),df.median_house_value,test_size=0.05,random_state=101)\n",
    "lr = LinearRegression()\n",
    "lr.fit(X_train,Y_train)\n",
    "pri = lr.predict(X_train)\n"
   ]
  },
  {
   "cell_type": "code",
   "execution_count": 220,
   "id": "e9b20bce",
   "metadata": {},
   "outputs": [
    {
     "name": "stdout",
     "output_type": "stream",
     "text": [
      "Predicted value for median house value: [102411.04824779]\n",
      "Value of training weights: [-4.30776320e+04 -4.28059533e+04  1.13640741e+03 -8.26537227e+00\n",
      "  1.19764264e+02 -3.81207981e+01  4.00312819e+01  4.01947682e+04]\n",
      "69633.72002531342\n"
     ]
    }
   ],
   "source": [
    "print(f'Predicted value for median house value: {lr.predict([[-119.85,37.48,22,2850,500,1150,400,3.12]])}')\n",
    "print(f'Value of training weights: {lr.coef_}')\n",
    "actual = np.array(list(Y_train))\n",
    "predicted = np.array(list(pri))\n",
    "print(mean_squared_error(actual,predicted,squared=False))"
   ]
  },
  {
   "cell_type": "code",
   "execution_count": 221,
   "id": "a6796853",
   "metadata": {},
   "outputs": [],
   "source": [
    "# Learning Curve\n",
    "\n",
    "size, train_scores, test_scores = learning_curve(lr, X_train, Y_train)"
   ]
  },
  {
   "cell_type": "code",
   "execution_count": 222,
   "id": "a131b9ec",
   "metadata": {},
   "outputs": [],
   "source": [
    "train_std = np.std(train_scores, axis=1)\n",
    "test_std = np.std(test_scores, axis=1)"
   ]
  },
  {
   "cell_type": "code",
   "execution_count": 223,
   "id": "b9383156",
   "metadata": {},
   "outputs": [
    {
     "data": {
      "text/plain": [
       "Text(0, 0.5, 'Loss Score')"
      ]
     },
     "execution_count": 223,
     "metadata": {},
     "output_type": "execute_result"
    },
    {
     "data": {
      "image/png": "[encoded data removed]",
      "text/plain": [
       "<Figure size 432x288 with 1 Axes>"
      ]
     },
     "metadata": {
      "needs_background": "light"
     },
     "output_type": "display_data"
    }
   ],
   "source": [
    "plt.plot(size, train_std)\n",
    "plt.plot(size, test_std)\n",
    "plt.legend(['Train', 'Test'])\n",
    "plt.title('Learning Curve')\n",
    "plt.xlabel('Training Size')\n",
    "plt.ylabel('Loss Score')"
   ]
  },
  {
   "cell_type": "code",
   "execution_count": null,
   "id": "8420a9e7",
   "metadata": {},
   "outputs": [],
   "source": []
  }
 ],
 "metadata": {
  "kernelspec": {
   "display_name": "Python 3 (ipykernel)",
   "language": "python",
   "name": "python3"
  },
  "language_info": {
   "codemirror_mode": {
    "name": "ipython",
    "version": 3
   },
   "file_extension": ".py",
   "mimetype": "text/x-python",
   "name": "python",
   "nbconvert_exporter": "python",
   "pygments_lexer": "ipython3",
   "version": "3.9.7"
  }
 },
 "nbformat": 4,
 "nbformat_minor": 5
}
