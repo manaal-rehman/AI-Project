{
 "cells": [
  {
   "cell_type": "code",
   "execution_count": 1,
   "metadata": {
    "id": "4kC_Dr8FTZpY"
   },
   "outputs": [],
   "source": [
    "import tensorflow.keras as keras\n",
    "import pandas as pd\n",
    "import numpy as numpy\n",
    "import matplotlib.pyplot as plt \n",
    "import seaborn as sns"
   ]
  },
  {
   "cell_type": "code",
   "execution_count": 2,
   "metadata": {
    "id": "VEoEtZCDf5x2"
   },
   "outputs": [],
   "source": [
    "df = pd.read_csv('housing.csv')"
   ]
  },
  {
   "cell_type": "code",
   "execution_count": 3,
   "metadata": {
    "colab": {
     "base_uri": "https://localhost:8080/"
    },
    "id": "l6o7zkrJgbCP",
    "outputId": "6b96f98a-3593-4733-a1f2-fab478dfff23"
   },
   "outputs": [
    {
     "data": {
      "text/plain": [
       "(20640, 10)"
      ]
     },
     "execution_count": 3,
     "metadata": {},
     "output_type": "execute_result"
    }
   ],
   "source": [
    "df.shape"
   ]
  },
  {
   "cell_type": "code",
   "execution_count": 4,
   "metadata": {
    "colab": {
     "base_uri": "https://localhost:8080/"
    },
    "id": "C6iH9tUugb1x",
    "outputId": "f78ec63b-2eb7-4a8e-b6b0-49fb1af0b278"
   },
   "outputs": [
    {
     "name": "stdout",
     "output_type": "stream",
     "text": [
      "<class 'pandas.core.frame.DataFrame'>\n",
      "RangeIndex: 20640 entries, 0 to 20639\n",
      "Data columns (total 10 columns):\n",
      " #   Column              Non-Null Count  Dtype  \n",
      "---  ------              --------------  -----  \n",
      " 0   longitude           20640 non-null  float64\n",
      " 1   latitude            20640 non-null  float64\n",
      " 2   housing_median_age  20640 non-null  float64\n",
      " 3   total_rooms         20640 non-null  float64\n",
      " 4   total_bedrooms      20433 non-null  float64\n",
      " 5   population          20640 non-null  float64\n",
      " 6   households          20640 non-null  float64\n",
      " 7   median_income       20640 non-null  float64\n",
      " 8   median_house_value  20640 non-null  float64\n",
      " 9   ocean_proximity     20640 non-null  object \n",
      "dtypes: float64(9), object(1)\n",
      "memory usage: 1.6+ MB\n"
     ]
    }
   ],
   "source": [
    "df.info()"
   ]
  },
  {
   "cell_type": "code",
   "execution_count": 5,
   "metadata": {
    "id": "kEMIajXCsJps"
   },
   "outputs": [],
   "source": [
    "df = df.dropna()"
   ]
  },
  {
   "cell_type": "markdown",
   "metadata": {
    "id": "Nl5S-_8tgqhk"
   },
   "source": [
    "## first 8 columns are features, 9th col is label and 10th is not used"
   ]
  },
  {
   "cell_type": "code",
   "execution_count": 6,
   "metadata": {
    "id": "7E8hx5qhhf30"
   },
   "outputs": [],
   "source": [
    "labels = df.median_house_value"
   ]
  },
  {
   "cell_type": "code",
   "execution_count": 7,
   "metadata": {
    "id": "m1fWR8eBhnj_"
   },
   "outputs": [],
   "source": [
    "features = df.copy()"
   ]
  },
  {
   "cell_type": "code",
   "execution_count": 8,
   "metadata": {
    "id": "6bWdhgsdgd0B"
   },
   "outputs": [],
   "source": [
    "features.drop(columns=['median_house_value', 'ocean_proximity'], inplace=True)"
   ]
  },
  {
   "cell_type": "code",
   "execution_count": 9,
   "metadata": {
    "colab": {
     "base_uri": "https://localhost:8080/",
     "height": 206
    },
    "id": "w1fM-aC2g7xi",
    "outputId": "851cc8c7-5363-4e6e-f895-69b87a91ccba"
   },
   "outputs": [
    {
     "data": {
      "text/html": [
       "<div>\n",
       "<style scoped>\n",
       "    .dataframe tbody tr th:only-of-type {\n",
       "        vertical-align: middle;\n",
       "    }\n",
       "\n",
       "    .dataframe tbody tr th {\n",
       "        vertical-align: top;\n",
       "    }\n",
       "\n",
       "    .dataframe thead th {\n",
       "        text-align: right;\n",
       "    }\n",
       "</style>\n",
       "<table border=\"1\" class=\"dataframe\">\n",
       "  <thead>\n",
       "    <tr style=\"text-align: right;\">\n",
       "      <th></th>\n",
       "      <th>longitude</th>\n",
       "      <th>latitude</th>\n",
       "      <th>housing_median_age</th>\n",
       "      <th>total_rooms</th>\n",
       "      <th>total_bedrooms</th>\n",
       "      <th>population</th>\n",
       "      <th>households</th>\n",
       "      <th>median_income</th>\n",
       "    </tr>\n",
       "  </thead>\n",
       "  <tbody>\n",
       "    <tr>\n",
       "      <th>0</th>\n",
       "      <td>-122.23</td>\n",
       "      <td>37.88</td>\n",
       "      <td>41.0</td>\n",
       "      <td>880.0</td>\n",
       "      <td>129.0</td>\n",
       "      <td>322.0</td>\n",
       "      <td>126.0</td>\n",
       "      <td>8.3252</td>\n",
       "    </tr>\n",
       "    <tr>\n",
       "      <th>1</th>\n",
       "      <td>-122.22</td>\n",
       "      <td>37.86</td>\n",
       "      <td>21.0</td>\n",
       "      <td>7099.0</td>\n",
       "      <td>1106.0</td>\n",
       "      <td>2401.0</td>\n",
       "      <td>1138.0</td>\n",
       "      <td>8.3014</td>\n",
       "    </tr>\n",
       "    <tr>\n",
       "      <th>2</th>\n",
       "      <td>-122.24</td>\n",
       "      <td>37.85</td>\n",
       "      <td>52.0</td>\n",
       "      <td>1467.0</td>\n",
       "      <td>190.0</td>\n",
       "      <td>496.0</td>\n",
       "      <td>177.0</td>\n",
       "      <td>7.2574</td>\n",
       "    </tr>\n",
       "    <tr>\n",
       "      <th>3</th>\n",
       "      <td>-122.25</td>\n",
       "      <td>37.85</td>\n",
       "      <td>52.0</td>\n",
       "      <td>1274.0</td>\n",
       "      <td>235.0</td>\n",
       "      <td>558.0</td>\n",
       "      <td>219.0</td>\n",
       "      <td>5.6431</td>\n",
       "    </tr>\n",
       "    <tr>\n",
       "      <th>4</th>\n",
       "      <td>-122.25</td>\n",
       "      <td>37.85</td>\n",
       "      <td>52.0</td>\n",
       "      <td>1627.0</td>\n",
       "      <td>280.0</td>\n",
       "      <td>565.0</td>\n",
       "      <td>259.0</td>\n",
       "      <td>3.8462</td>\n",
       "    </tr>\n",
       "  </tbody>\n",
       "</table>\n",
       "</div>"
      ],
      "text/plain": [
       "   longitude  latitude  housing_median_age  total_rooms  total_bedrooms  \\\n",
       "0    -122.23     37.88                41.0        880.0           129.0   \n",
       "1    -122.22     37.86                21.0       7099.0          1106.0   \n",
       "2    -122.24     37.85                52.0       1467.0           190.0   \n",
       "3    -122.25     37.85                52.0       1274.0           235.0   \n",
       "4    -122.25     37.85                52.0       1627.0           280.0   \n",
       "\n",
       "   population  households  median_income  \n",
       "0       322.0       126.0         8.3252  \n",
       "1      2401.0      1138.0         8.3014  \n",
       "2       496.0       177.0         7.2574  \n",
       "3       558.0       219.0         5.6431  \n",
       "4       565.0       259.0         3.8462  "
      ]
     },
     "execution_count": 9,
     "metadata": {},
     "output_type": "execute_result"
    }
   ],
   "source": [
    "features.head()"
   ]
  },
  {
   "cell_type": "code",
   "execution_count": 10,
   "metadata": {
    "colab": {
     "base_uri": "https://localhost:8080/"
    },
    "id": "sK8UoX4cg9Kv",
    "outputId": "7b43a043-77dd-47be-d36d-d84fe62d9d66"
   },
   "outputs": [
    {
     "data": {
      "text/plain": [
       "(20433, 8)"
      ]
     },
     "execution_count": 10,
     "metadata": {},
     "output_type": "execute_result"
    }
   ],
   "source": [
    "features.shape"
   ]
  },
  {
   "cell_type": "code",
   "execution_count": 11,
   "metadata": {
    "colab": {
     "base_uri": "https://localhost:8080/"
    },
    "id": "xtZdws_Ih9YB",
    "outputId": "386d0359-dca9-4706-a79b-de05a4829d50"
   },
   "outputs": [
    {
     "data": {
      "text/plain": [
       "(20433,)"
      ]
     },
     "execution_count": 11,
     "metadata": {},
     "output_type": "execute_result"
    }
   ],
   "source": [
    "labels.shape"
   ]
  },
  {
   "cell_type": "markdown",
   "metadata": {
    "id": "kVptEF60iBAo"
   },
   "source": [
    "## Normalization"
   ]
  },
  {
   "cell_type": "code",
   "execution_count": 12,
   "metadata": {
    "id": "gZLuelnSiANM"
   },
   "outputs": [],
   "source": [
    "mean = features.mean(axis=0)\n",
    "std = features.std(axis=0)"
   ]
  },
  {
   "cell_type": "code",
   "execution_count": 13,
   "metadata": {
    "id": "duKBxFtNib_H"
   },
   "outputs": [],
   "source": [
    "features = features - mean\n",
    "features = features / std"
   ]
  },
  {
   "cell_type": "code",
   "execution_count": 14,
   "metadata": {
    "colab": {
     "base_uri": "https://localhost:8080/"
    },
    "id": "0UFNKBsCkyLf",
    "outputId": "62754359-5a32-41df-f2c1-304cda72ebf0"
   },
   "outputs": [
    {
     "data": {
      "text/plain": [
       "longitude             -119.570689\n",
       "latitude                35.633221\n",
       "housing_median_age      28.633094\n",
       "total_rooms           2636.504233\n",
       "total_bedrooms         537.870553\n",
       "population            1424.946949\n",
       "households             499.433465\n",
       "median_income            3.871162\n",
       "dtype: float64"
      ]
     },
     "execution_count": 14,
     "metadata": {},
     "output_type": "execute_result"
    }
   ],
   "source": [
    "mean"
   ]
  },
  {
   "cell_type": "code",
   "execution_count": 15,
   "metadata": {
    "colab": {
     "base_uri": "https://localhost:8080/",
     "height": 206
    },
    "id": "oTDOKHkPi2Ps",
    "outputId": "bf097fee-02ca-45a3-a30f-865395f430bd"
   },
   "outputs": [
    {
     "data": {
      "text/html": [
       "<div>\n",
       "<style scoped>\n",
       "    .dataframe tbody tr th:only-of-type {\n",
       "        vertical-align: middle;\n",
       "    }\n",
       "\n",
       "    .dataframe tbody tr th {\n",
       "        vertical-align: top;\n",
       "    }\n",
       "\n",
       "    .dataframe thead th {\n",
       "        text-align: right;\n",
       "    }\n",
       "</style>\n",
       "<table border=\"1\" class=\"dataframe\">\n",
       "  <thead>\n",
       "    <tr style=\"text-align: right;\">\n",
       "      <th></th>\n",
       "      <th>longitude</th>\n",
       "      <th>latitude</th>\n",
       "      <th>housing_median_age</th>\n",
       "      <th>total_rooms</th>\n",
       "      <th>total_bedrooms</th>\n",
       "      <th>population</th>\n",
       "      <th>households</th>\n",
       "      <th>median_income</th>\n",
       "    </tr>\n",
       "  </thead>\n",
       "  <tbody>\n",
       "    <tr>\n",
       "      <th>0</th>\n",
       "      <td>-1.327281</td>\n",
       "      <td>1.051692</td>\n",
       "      <td>0.982139</td>\n",
       "      <td>-0.803793</td>\n",
       "      <td>-0.970301</td>\n",
       "      <td>-0.973296</td>\n",
       "      <td>-0.976809</td>\n",
       "      <td>2.345106</td>\n",
       "    </tr>\n",
       "    <tr>\n",
       "      <th>1</th>\n",
       "      <td>-1.322290</td>\n",
       "      <td>1.042330</td>\n",
       "      <td>-0.606195</td>\n",
       "      <td>2.042080</td>\n",
       "      <td>1.348243</td>\n",
       "      <td>0.861318</td>\n",
       "      <td>1.670332</td>\n",
       "      <td>2.332575</td>\n",
       "    </tr>\n",
       "    <tr>\n",
       "      <th>2</th>\n",
       "      <td>-1.332272</td>\n",
       "      <td>1.037649</td>\n",
       "      <td>1.855723</td>\n",
       "      <td>-0.535176</td>\n",
       "      <td>-0.825541</td>\n",
       "      <td>-0.819749</td>\n",
       "      <td>-0.843406</td>\n",
       "      <td>1.782896</td>\n",
       "    </tr>\n",
       "    <tr>\n",
       "      <th>3</th>\n",
       "      <td>-1.337263</td>\n",
       "      <td>1.037649</td>\n",
       "      <td>1.855723</td>\n",
       "      <td>-0.623495</td>\n",
       "      <td>-0.718750</td>\n",
       "      <td>-0.765037</td>\n",
       "      <td>-0.733544</td>\n",
       "      <td>0.932947</td>\n",
       "    </tr>\n",
       "    <tr>\n",
       "      <th>4</th>\n",
       "      <td>-1.337263</td>\n",
       "      <td>1.037649</td>\n",
       "      <td>1.855723</td>\n",
       "      <td>-0.461959</td>\n",
       "      <td>-0.611959</td>\n",
       "      <td>-0.758860</td>\n",
       "      <td>-0.628914</td>\n",
       "      <td>-0.013143</td>\n",
       "    </tr>\n",
       "  </tbody>\n",
       "</table>\n",
       "</div>"
      ],
      "text/plain": [
       "   longitude  latitude  housing_median_age  total_rooms  total_bedrooms  \\\n",
       "0  -1.327281  1.051692            0.982139    -0.803793       -0.970301   \n",
       "1  -1.322290  1.042330           -0.606195     2.042080        1.348243   \n",
       "2  -1.332272  1.037649            1.855723    -0.535176       -0.825541   \n",
       "3  -1.337263  1.037649            1.855723    -0.623495       -0.718750   \n",
       "4  -1.337263  1.037649            1.855723    -0.461959       -0.611959   \n",
       "\n",
       "   population  households  median_income  \n",
       "0   -0.973296   -0.976809       2.345106  \n",
       "1    0.861318    1.670332       2.332575  \n",
       "2   -0.819749   -0.843406       1.782896  \n",
       "3   -0.765037   -0.733544       0.932947  \n",
       "4   -0.758860   -0.628914      -0.013143  "
      ]
     },
     "execution_count": 15,
     "metadata": {},
     "output_type": "execute_result"
    }
   ],
   "source": [
    "features.head()"
   ]
  },
  {
   "cell_type": "code",
   "execution_count": 16,
   "metadata": {
    "colab": {
     "base_uri": "https://localhost:8080/"
    },
    "id": "-PklkJxQi3Ww",
    "outputId": "cbec3e50-75e1-4cfe-9cb6-3380cd52f178"
   },
   "outputs": [
    {
     "data": {
      "text/plain": [
       "0    452600.0\n",
       "1    358500.0\n",
       "2    352100.0\n",
       "3    341300.0\n",
       "4    342200.0\n",
       "Name: median_house_value, dtype: float64"
      ]
     },
     "execution_count": 16,
     "metadata": {},
     "output_type": "execute_result"
    }
   ],
   "source": [
    "labels.head()"
   ]
  },
  {
   "cell_type": "markdown",
   "metadata": {
    "id": "EdM4ExlKi80T"
   },
   "source": [
    "## Neural Network Model"
   ]
  },
  {
   "cell_type": "code",
   "execution_count": 17,
   "metadata": {
    "id": "KOk-dPmci5WP"
   },
   "outputs": [],
   "source": [
    "model = keras.models.Sequential()\n",
    "model.add(keras.layers.Dense(8, activation='relu', input_shape=(8, )))\n",
    "model.add(keras.layers.Dense(1))\n",
    "\n",
    "model.compile(\n",
    "    optimizer='rmsprop',\n",
    "    loss='mse',\n",
    "    metrics=['mae']\n",
    ")"
   ]
  },
  {
   "cell_type": "code",
   "execution_count": 18,
   "metadata": {
    "id": "ylXUsvBqplM9"
   },
   "outputs": [],
   "source": [
    "model.build()"
   ]
  },
  {
   "cell_type": "code",
   "execution_count": 19,
   "metadata": {
    "colab": {
     "base_uri": "https://localhost:8080/"
    },
    "id": "K93FyzDmp22l",
    "outputId": "d688776b-225c-460d-beeb-8d90f11de119"
   },
   "outputs": [
    {
     "name": "stdout",
     "output_type": "stream",
     "text": [
      "Epoch 1/50\n",
      "639/639 [==============================] - 1s 514us/step - loss: 56116097024.0000 - mae: 206861.0312\n",
      "Epoch 2/50\n",
      "639/639 [==============================] - 0s 483us/step - loss: 56110972928.0000 - mae: 206850.0625\n",
      "Epoch 3/50\n",
      "639/639 [==============================] - 0s 480us/step - loss: 56101552128.0000 - mae: 206829.9219\n",
      "Epoch 4/50\n",
      "639/639 [==============================] - 0s 475us/step - loss: 56087699456.0000 - mae: 206799.4844\n",
      "Epoch 5/50\n",
      "639/639 [==============================] - 0s 468us/step - loss: 56068919296.0000 - mae: 206758.8750\n",
      "Epoch 6/50\n",
      "639/639 [==============================] - 0s 476us/step - loss: 56045527040.0000 - mae: 206708.4531\n",
      "Epoch 7/50\n",
      "639/639 [==============================] - 0s 478us/step - loss: 56017244160.0000 - mae: 206647.4062\n",
      "Epoch 8/50\n",
      "639/639 [==============================] - 0s 478us/step - loss: 55984365568.0000 - mae: 206576.3906\n",
      "Epoch 9/50\n",
      "639/639 [==============================] - 0s 476us/step - loss: 55946518528.0000 - mae: 206494.6094\n",
      "Epoch 10/50\n",
      "639/639 [==============================] - 0s 475us/step - loss: 55903944704.0000 - mae: 206402.8281\n",
      "Epoch 11/50\n",
      "639/639 [==============================] - 0s 478us/step - loss: 55857008640.0000 - mae: 206301.3594\n",
      "Epoch 12/50\n",
      "639/639 [==============================] - 0s 477us/step - loss: 55805100032.0000 - mae: 206189.4375\n",
      "Epoch 13/50\n",
      "639/639 [==============================] - 0s 470us/step - loss: 55748243456.0000 - mae: 206066.9062\n",
      "Epoch 14/50\n",
      "639/639 [==============================] - 0s 478us/step - loss: 55687200768.0000 - mae: 205934.6875\n",
      "Epoch 15/50\n",
      "639/639 [==============================] - 0s 470us/step - loss: 55621459968.0000 - mae: 205792.3594\n",
      "Epoch 16/50\n",
      "639/639 [==============================] - 0s 467us/step - loss: 55550656512.0000 - mae: 205639.2656\n",
      "Epoch 17/50\n",
      "639/639 [==============================] - 0s 472us/step - loss: 55475154944.0000 - mae: 205475.1875\n",
      "Epoch 18/50\n",
      "639/639 [==============================] - 0s 468us/step - loss: 55395209216.0000 - mae: 205302.3438\n",
      "Epoch 19/50\n",
      "639/639 [==============================] - 0s 468us/step - loss: 55311269888.0000 - mae: 205119.2812\n",
      "Epoch 20/50\n",
      "639/639 [==============================] - 0s 468us/step - loss: 55222018048.0000 - mae: 204926.0469\n",
      "Epoch 21/50\n",
      "639/639 [==============================] - 0s 480us/step - loss: 55128207360.0000 - mae: 204721.2969\n",
      "Epoch 22/50\n",
      "639/639 [==============================] - 0s 481us/step - loss: 55030349824.0000 - mae: 204507.7656\n",
      "Epoch 23/50\n",
      "639/639 [==============================] - 0s 477us/step - loss: 54927577088.0000 - mae: 204283.3594\n",
      "Epoch 24/50\n",
      "639/639 [==============================] - 0s 477us/step - loss: 54820503552.0000 - mae: 204049.8594\n",
      "Epoch 25/50\n",
      "639/639 [==============================] - 0s 481us/step - loss: 54708817920.0000 - mae: 203805.0156\n",
      "Epoch 26/50\n",
      "639/639 [==============================] - 0s 476us/step - loss: 54592679936.0000 - mae: 203550.5000\n",
      "Epoch 27/50\n",
      "639/639 [==============================] - 0s 479us/step - loss: 54471737344.0000 - mae: 203285.0781\n",
      "Epoch 28/50\n",
      "639/639 [==============================] - 0s 467us/step - loss: 54346907648.0000 - mae: 203010.0781\n",
      "Epoch 29/50\n",
      "639/639 [==============================] - 0s 490us/step - loss: 54216679424.0000 - mae: 202723.5156\n",
      "Epoch 30/50\n",
      "639/639 [==============================] - 0s 480us/step - loss: 54082461696.0000 - mae: 202427.6562\n",
      "Epoch 31/50\n",
      "639/639 [==============================] - 0s 483us/step - loss: 53944233984.0000 - mae: 202122.1719\n",
      "Epoch 32/50\n",
      "639/639 [==============================] - 0s 475us/step - loss: 53801005056.0000 - mae: 201805.4688\n",
      "Epoch 33/50\n",
      "639/639 [==============================] - 0s 478us/step - loss: 53654962176.0000 - mae: 201480.6406\n",
      "Epoch 34/50\n",
      "639/639 [==============================] - 0s 480us/step - loss: 53503709184.0000 - mae: 201144.8438\n",
      "Epoch 35/50\n",
      "639/639 [==============================] - 0s 489us/step - loss: 53348691968.0000 - mae: 200799.8125\n",
      "Epoch 36/50\n",
      "639/639 [==============================] - 0s 483us/step - loss: 53189591040.0000 - mae: 200443.6406\n",
      "Epoch 37/50\n",
      "639/639 [==============================] - 0s 483us/step - loss: 53026369536.0000 - mae: 200077.2500\n",
      "Epoch 38/50\n",
      "639/639 [==============================] - 0s 480us/step - loss: 52858011648.0000 - mae: 199700.6719\n",
      "Epoch 39/50\n",
      "639/639 [==============================] - 0s 477us/step - loss: 52686733312.0000 - mae: 199314.6562\n",
      "Epoch 40/50\n",
      "639/639 [==============================] - 0s 479us/step - loss: 52510572544.0000 - mae: 198917.6719\n",
      "Epoch 41/50\n",
      "639/639 [==============================] - 0s 481us/step - loss: 52330864640.0000 - mae: 198512.2812\n",
      "Epoch 42/50\n",
      "639/639 [==============================] - 0s 486us/step - loss: 52147888128.0000 - mae: 198096.1562\n",
      "Epoch 43/50\n",
      "639/639 [==============================] - 0s 485us/step - loss: 51959427072.0000 - mae: 197669.1094\n",
      "Epoch 44/50\n",
      "639/639 [==============================] - 0s 497us/step - loss: 51768139776.0000 - mae: 197232.5312\n",
      "Epoch 45/50\n",
      "639/639 [==============================] - 0s 481us/step - loss: 51572432896.0000 - mae: 196787.4531\n",
      "Epoch 46/50\n",
      "639/639 [==============================] - 0s 478us/step - loss: 51373780992.0000 - mae: 196331.1875\n",
      "Epoch 47/50\n",
      "639/639 [==============================] - 0s 476us/step - loss: 51171368960.0000 - mae: 195865.0000\n",
      "Epoch 48/50\n",
      "639/639 [==============================] - 0s 480us/step - loss: 50964172800.0000 - mae: 195388.2500\n",
      "Epoch 49/50\n",
      "639/639 [==============================] - 0s 478us/step - loss: 50753318912.0000 - mae: 194901.6406\n",
      "Epoch 50/50\n",
      "639/639 [==============================] - 0s 481us/step - loss: 50539937792.0000 - mae: 194405.7188\n"
     ]
    },
    {
     "data": {
      "text/plain": [
       "<keras.callbacks.History at 0x1f81fec6eb0>"
      ]
     },
     "execution_count": 19,
     "metadata": {},
     "output_type": "execute_result"
    }
   ],
   "source": [
    "model.fit(features, labels, epochs=50, batch_size=32)"
   ]
  },
  {
   "cell_type": "code",
   "execution_count": 20,
   "metadata": {
    "id": "xzktEznfp-AB"
   },
   "outputs": [],
   "source": [
    "test_df = pd.DataFrame({\n",
    "    'longitude': [-119.85], \n",
    "    'latitude': [37.48], \n",
    "    'housing_median_age': [22],\n",
    "    'total_rooms': [2850],\n",
    "    'total_bedrooms': [500],\n",
    "    'population': [1150],\n",
    "    'households': [460],\n",
    "    'median_income': [3.12]\n",
    "})"
   ]
  },
  {
   "cell_type": "code",
   "execution_count": 21,
   "metadata": {
    "colab": {
     "base_uri": "https://localhost:8080/",
     "height": 81
    },
    "id": "JvUTQ4oyyXMe",
    "outputId": "349d01d4-aaab-4a65-ced8-d6361e532725"
   },
   "outputs": [
    {
     "data": {
      "text/html": [
       "<div>\n",
       "<style scoped>\n",
       "    .dataframe tbody tr th:only-of-type {\n",
       "        vertical-align: middle;\n",
       "    }\n",
       "\n",
       "    .dataframe tbody tr th {\n",
       "        vertical-align: top;\n",
       "    }\n",
       "\n",
       "    .dataframe thead th {\n",
       "        text-align: right;\n",
       "    }\n",
       "</style>\n",
       "<table border=\"1\" class=\"dataframe\">\n",
       "  <thead>\n",
       "    <tr style=\"text-align: right;\">\n",
       "      <th></th>\n",
       "      <th>longitude</th>\n",
       "      <th>latitude</th>\n",
       "      <th>housing_median_age</th>\n",
       "      <th>total_rooms</th>\n",
       "      <th>total_bedrooms</th>\n",
       "      <th>population</th>\n",
       "      <th>households</th>\n",
       "      <th>median_income</th>\n",
       "    </tr>\n",
       "  </thead>\n",
       "  <tbody>\n",
       "    <tr>\n",
       "      <th>0</th>\n",
       "      <td>-119.85</td>\n",
       "      <td>37.48</td>\n",
       "      <td>22</td>\n",
       "      <td>2850</td>\n",
       "      <td>500</td>\n",
       "      <td>1150</td>\n",
       "      <td>460</td>\n",
       "      <td>3.12</td>\n",
       "    </tr>\n",
       "  </tbody>\n",
       "</table>\n",
       "</div>"
      ],
      "text/plain": [
       "   longitude  latitude  housing_median_age  total_rooms  total_bedrooms  \\\n",
       "0    -119.85     37.48                  22         2850             500   \n",
       "\n",
       "   population  households  median_income  \n",
       "0        1150         460           3.12  "
      ]
     },
     "execution_count": 21,
     "metadata": {},
     "output_type": "execute_result"
    }
   ],
   "source": [
    "test_df    "
   ]
  },
  {
   "cell_type": "code",
   "execution_count": 22,
   "metadata": {
    "id": "Um7nJZd5yoh0"
   },
   "outputs": [],
   "source": [
    "test_df = test_df - mean\n",
    "test_df = test_df / std"
   ]
  },
  {
   "cell_type": "code",
   "execution_count": 23,
   "metadata": {
    "colab": {
     "base_uri": "https://localhost:8080/",
     "height": 81
    },
    "id": "pTBKgRAoyzU6",
    "outputId": "165f36dc-7f85-4133-fbfb-3357427979fd"
   },
   "outputs": [
    {
     "data": {
      "text/html": [
       "<div>\n",
       "<style scoped>\n",
       "    .dataframe tbody tr th:only-of-type {\n",
       "        vertical-align: middle;\n",
       "    }\n",
       "\n",
       "    .dataframe tbody tr th {\n",
       "        vertical-align: top;\n",
       "    }\n",
       "\n",
       "    .dataframe thead th {\n",
       "        text-align: right;\n",
       "    }\n",
       "</style>\n",
       "<table border=\"1\" class=\"dataframe\">\n",
       "  <thead>\n",
       "    <tr style=\"text-align: right;\">\n",
       "      <th></th>\n",
       "      <th>longitude</th>\n",
       "      <th>latitude</th>\n",
       "      <th>housing_median_age</th>\n",
       "      <th>total_rooms</th>\n",
       "      <th>total_bedrooms</th>\n",
       "      <th>population</th>\n",
       "      <th>households</th>\n",
       "      <th>median_income</th>\n",
       "    </tr>\n",
       "  </thead>\n",
       "  <tbody>\n",
       "    <tr>\n",
       "      <th>0</th>\n",
       "      <td>-0.139406</td>\n",
       "      <td>0.864456</td>\n",
       "      <td>-0.526779</td>\n",
       "      <td>0.097698</td>\n",
       "      <td>-0.089872</td>\n",
       "      <td>-0.242627</td>\n",
       "      <td>-0.103148</td>\n",
       "      <td>-0.395496</td>\n",
       "    </tr>\n",
       "  </tbody>\n",
       "</table>\n",
       "</div>"
      ],
      "text/plain": [
       "   longitude  latitude  housing_median_age  total_rooms  total_bedrooms  \\\n",
       "0  -0.139406  0.864456           -0.526779     0.097698       -0.089872   \n",
       "\n",
       "   population  households  median_income  \n",
       "0   -0.242627   -0.103148      -0.395496  "
      ]
     },
     "execution_count": 23,
     "metadata": {},
     "output_type": "execute_result"
    }
   ],
   "source": [
    "test_df"
   ]
  },
  {
   "cell_type": "code",
   "execution_count": 24,
   "metadata": {
    "colab": {
     "base_uri": "https://localhost:8080/"
    },
    "id": "KrG-bFpNyYsB",
    "outputId": "470abd64-3cc9-4591-fea5-85f402204b25"
   },
   "outputs": [
    {
     "data": {
      "text/plain": [
       "array([[3419.7246]], dtype=float32)"
      ]
     },
     "execution_count": 24,
     "metadata": {},
     "output_type": "execute_result"
    }
   ],
   "source": [
    "model.predict(test_df)"
   ]
  },
  {
   "cell_type": "markdown",
   "metadata": {
    "id": "XnboVFKsyduv"
   },
   "source": [
    "# The predicted median house value is 38523.855"
   ]
  },
  {
   "cell_type": "code",
   "execution_count": null,
   "metadata": {},
   "outputs": [],
   "source": []
  }
 ],
 "metadata": {
  "accelerator": "GPU",
  "colab": {
   "name": "Artificial Intelligence Lab Final Project.ipynb",
   "provenance": []
  },
  "kernelspec": {
   "display_name": "Python 3 (ipykernel)",
   "language": "python",
   "name": "python3"
  },
  "language_info": {
   "codemirror_mode": {
    "name": "ipython",
    "version": 3
   },
   "file_extension": ".py",
   "mimetype": "text/x-python",
   "name": "python",
   "nbconvert_exporter": "python",
   "pygments_lexer": "ipython3",
   "version": "3.9.7"
  }
 },
 "nbformat": 4,
 "nbformat_minor": 1
}
